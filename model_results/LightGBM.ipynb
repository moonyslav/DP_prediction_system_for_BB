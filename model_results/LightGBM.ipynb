{
 "cells": [
  {
   "cell_type": "code",
   "execution_count": null,
   "id": "0380b668",
   "metadata": {},
   "outputs": [],
   "source": [
    "import csv\n",
    "import datetime\n",
    "import re\n",
    "import pickle\n",
    "import joblib\n",
    "import time\n",
    "\n",
    "import numpy as np\n",
    "import pandas as pd\n",
    "import matplotlib.pyplot as plt\n",
    "\n",
    "from sklearn.model_selection import train_test_split\n",
    "from sklearn.preprocessing import LabelEncoder\n",
    "from sklearn.metrics import accuracy_score\n",
    "from sklearn.ensemble import RandomForestClassifier\n",
    "from sklearn.feature_selection import mutual_info_classif\n",
    "\n",
    "from xgboost import XGBClassifier\n",
    "from lightgbm import LGBMClassifier, early_stopping\n",
    "\n",
    "import optuna\n"
   ]
  },
  {
   "cell_type": "code",
   "execution_count": null,
   "id": "02537b70",
   "metadata": {},
   "outputs": [],
   "source": [
    "df = pd.read_pickle('C:\\\\diplomka_work\\\\python_code\\\\data_pickles\\\\train_cely.pkl')"
   ]
  },
  {
   "cell_type": "code",
   "execution_count": null,
   "id": "fd25c03e",
   "metadata": {},
   "outputs": [],
   "source": [
    "\n",
    "\n",
    "# Načítanie dát (použi tvoje dáta)\n",
    "# df = pd.read_csv('df_vzorek.csv')\n",
    "\n",
    "# Pridanie stĺpca `next_product_id`\n",
    "df['next_product_name'] = df.groupby('doklad_id_int')['produkt_nazev'].shift(-1)\n",
    "\n",
    "# Označenie, či je riadok posledný v objednávke\n",
    "df['is_last'] = df['next_product_name'].isna()\n",
    "\n",
    "# Odstránenie riadkov, kde je `is_last` True\n",
    "df = df[~df['is_last']].copy()\n",
    "\n",
    "\n",
    "# Odstránenie tried, ktoré majú menej ako 2 vzorky\n",
    "class_counts = df['next_product_name'].value_counts()\n",
    "valid_classes = class_counts[class_counts > 1].index\n",
    "df = df[df['next_product_name'].isin(valid_classes)].copy()\n"
   ]
  },
  {
   "cell_type": "code",
   "execution_count": null,
   "id": "41e1d3e2",
   "metadata": {},
   "outputs": [],
   "source": [
    "column_names_dumm = ['produkt_nazev']\n",
    "df = pd.get_dummies(df, columns = column_names_dumm)\n"
   ]
  },
  {
   "cell_type": "code",
   "execution_count": null,
   "id": "98df3245",
   "metadata": {},
   "outputs": [],
   "source": [
    "# Automatický výber všetkých čŕt okrem identifikátorov a cieľových premenných\n",
    "exclude_columns = ['doklad_id', 'produkt_id', 'item_sequence', 'poradi', 'next_product_name', 'next_product_id_encoded', 'is_last','otevreni_datum_cas','produkt_nazev', 'produkt_id_int', 'doklad_id_int']\n",
    "features = [col for col in df.columns if col not in exclude_columns]\n",
    "\n",
    "X = df[features]\n",
    "y = df['next_product_name']"
   ]
  },
  {
   "cell_type": "code",
   "execution_count": null,
   "id": "e3a6c344",
   "metadata": {},
   "outputs": [],
   "source": [
    "print(df.dtypes) "
   ]
  },
  {
   "cell_type": "code",
   "execution_count": null,
   "id": "abf684e3",
   "metadata": {},
   "outputs": [],
   "source": [
    "# Rozdelenie dát na tréningovú a testovaciu množinu\n",
    "X_train, X_test, y_train, y_test = train_test_split(X, y, test_size=0.2, random_state=42, stratify=y)"
   ]
  },
  {
   "cell_type": "code",
   "execution_count": null,
   "id": "c06134fd",
   "metadata": {},
   "outputs": [],
   "source": [
    "\n",
    "\n",
    "# Získanie veľkostí jednotlivých datasetov\n",
    "sizes = {\n",
    "    \"X_train\": len(X_train),\n",
    "    \"X_test\": len(X_test),\n",
    "    \"y_train\": len(y_train),\n",
    "    \"y_test\": len(y_test),\n",
    "}\n",
    "\n",
    "# Vytvorenie grafu\n",
    "plt.figure(figsize=(8, 6))\n",
    "plt.bar(sizes.keys(), sizes.values())\n",
    "plt.xlabel(\"Dataset\")\n",
    "plt.ylabel(\"Počet vzoriek\")\n",
    "plt.title(\"Porovnanie veľkostí datasetov\")\n",
    "plt.show()\n"
   ]
  },
  {
   "cell_type": "code",
   "execution_count": null,
   "id": "e70da57a",
   "metadata": {},
   "outputs": [],
   "source": [
    "import re\n",
    "\n",
    "# Oprava názvov stĺpcov (odstránenie špeciálnych znakov)\n",
    "X.columns = [re.sub(r'[^A-Za-z0-9_]', '_', col) for col in X.columns]"
   ]
  },
  {
   "cell_type": "code",
   "execution_count": null,
   "id": "538dea52",
   "metadata": {},
   "outputs": [],
   "source": [
    "# Skontroluj dátové typy\n",
    "print(\"Dátové typy v DataFrame:\")\n",
    "print(df.dtypes)\n",
    "\n",
    "# Nájdeme stĺpce, ktoré nie sú int, float alebo bool\n",
    "problematic_columns = df.select_dtypes(exclude=['int64', 'float64', 'bool']).columns.tolist()\n",
    "\n",
    "# Výpis problematických stĺpcov\n",
    "if problematic_columns:\n",
    "    print(\"\\n⚠️  Stĺpce s nesprávnym typom (môžu spôsobiť chybu v modelovaní):\")\n",
    "    print(problematic_columns)\n",
    "else:\n",
    "    print(\"\\n✅  Všetky stĺpce sú v správnom formáte pre modelovanie.\")"
   ]
  },
  {
   "cell_type": "code",
   "execution_count": null,
   "id": "699879a8",
   "metadata": {},
   "outputs": [],
   "source": [
    "\n",
    "# Kódovanie cieľovej premennej (Label Encoding)\n",
    "encoder = LabelEncoder()\n",
    "y_encoded = encoder.fit_transform(y)\n",
    "\n",
    "# Rozdelenie datasetu na trénovaciu a testovaciu množinu\n",
    "X_train, X_test, y_train, y_test = train_test_split(X, y_encoded, test_size=0.2, random_state=42, stratify=y_encoded)\n",
    "\n",
    "# Definovanie cieľovej funkcie pre Optunu\n",
    "def objective(trial):\n",
    "    params = {\n",
    "        \"n_estimators\": trial.suggest_int(\"n_estimators\", 100, 2000),  # Počet iterácií\n",
    "        \"max_depth\": trial.suggest_int(\"max_depth\", 3, 12),  # Hĺbka stromov\n",
    "        \"learning_rate\": trial.suggest_float(\"learning_rate\", 0.01, 0.3),  # Learning rate\n",
    "        \"num_leaves\": trial.suggest_int(\"num_leaves\", 20, 150),  # Počet listov na strome\n",
    "        \"min_child_samples\": trial.suggest_int(\"min_child_samples\", 10, 50),  # Min vzoriek v liste\n",
    "        \"reg_alpha\": trial.suggest_float(\"reg_alpha\", 1e-3, 10),  # L1 regularizácia\n",
    "        \"reg_lambda\": trial.suggest_float(\"reg_lambda\", 1e-3, 10),  # L2 regularizácia\n",
    "        \"subsample\": trial.suggest_float(\"subsample\", 0.5, 1.0),  # Bagging\n",
    "        \"colsample_bytree\": trial.suggest_float(\"colsample_bytree\", 0.5, 1.0),  # Výber čŕt\n",
    "        \"min_split_gain\": trial.suggest_float(\"min_split_gain\", 0, 0.2),  # Práh pre split\n",
    "        \"n_jobs\": -1,  # Využitie všetkých CPU jadier\n",
    "        \"random_state\": 42\n",
    "    }\n",
    "\n",
    "    # Trénovanie modelu\n",
    "    model = LGBMClassifier(**params)\n",
    "    model.fit(\n",
    "        X_train, y_train, \n",
    "        eval_set=[(X_test, y_test)], \n",
    "        callbacks=[early_stopping(50, verbose=False)]  # **Použitý správny spôsob Early Stopping**\n",
    "    )\n",
    "\n",
    "    # Predikcia\n",
    "    y_pred = model.predict(X_test)\n",
    "\n",
    "    # Vyhodnotenie presnosti\n",
    "    return accuracy_score(y_test, y_pred)\n",
    "\n",
    "# Spustenie Optuny s viac iteráciami\n",
    "study = optuna.create_study(direction=\"maximize\")\n",
    "study.optimize(objective, n_trials=50, n_jobs=-1)  # 50 skúšok pre lepšiu optimalizáciu\n",
    "\n",
    "# Najlepšie parametre\n",
    "best_params = study.best_params\n",
    "print(\"Najlepšie parametre:\", best_params)\n",
    "\n",
    "# Trénovanie finálneho modelu s najlepšími parametrami\n",
    "final_model = LGBMClassifier(**best_params, n_jobs=-1)\n",
    "final_model.fit(\n",
    "    X_train, y_train, \n",
    "    eval_set=[(X_test, y_test)], \n",
    "    callbacks=[early_stopping(50, verbose=True)]  # Použitie Early Stopping v správnom formáte\n",
    ")\n",
    "\n",
    "# Predikcia na testovacej množine\n",
    "y_pred_final = final_model.predict(X_test)\n",
    "\n",
    "# Vyhodnotenie finálneho modelu\n",
    "final_accuracy = accuracy_score(y_test, y_pred_final)\n",
    "print(f\"Optimized LightGBM Test Accuracy: {final_accuracy:.4f}\")\n",
    "\n"
   ]
  },
  {
   "cell_type": "code",
   "execution_count": null,
   "id": "5d7a1dfd",
   "metadata": {},
   "outputs": [],
   "source": [
    "    with open(\"best_params.txt\", \"w\") as f:\n",
    "        f.write(\"Najlepšie parametre:\\n\")\n",
    "        for key, val in study.best_trial.params.items():\n",
    "            f.write(f\"{key}: {val}\\n\")\n",
    "        f.write(f\"\\nNajlepšia presnosť: {study.best_value:.4f}\\n\")\n",
    "\n",
    "    print(\"Výsledky boli uložené do 'optuna_trials.txt' a 'best_params.txt'.\")\n",
    "\n",
    "# --- Výpis naj výsledku aj na konzolu ---\n",
    "print(\"Najlepšie parametre:\")\n",
    "print(study.best_params)\n",
    "print(f\"Najlepšia presnosť: {study.best_value:.4f}\")\n"
   ]
  },
  {
   "cell_type": "code",
   "execution_count": null,
   "id": "8c0b4337",
   "metadata": {},
   "outputs": [],
   "source": []
  },
  {
   "cell_type": "code",
   "execution_count": null,
   "id": "13dc5762",
   "metadata": {},
   "outputs": [],
   "source": [
    "# --- Label encoding cieľa ---\n",
    "encoder = LabelEncoder()\n",
    "y_encoded = encoder.fit_transform(y)\n"
   ]
  },
  {
   "cell_type": "code",
   "execution_count": null,
   "id": "3257e665",
   "metadata": {},
   "outputs": [],
   "source": [
    "\n",
    "# # --- Použitie najlepších hyperparametrov ---\n",
    "\n",
    "# best_params = {\n",
    "#     'n_estimators': 712,\n",
    "#     'max_depth': 5,\n",
    "#     'learning_rate': 0.23786612527806789,\n",
    "#     'num_leaves': 45,\n",
    "#     'min_child_samples': 39,\n",
    "#     'reg_alpha': 2.260779731734915,\n",
    "#     'reg_lambda': 7.276727287983203,\n",
    "#     'subsample': 0.5971143224408253,\n",
    "#     'colsample_bytree': 0.9359953488545416,\n",
    "#     'min_split_gain': 0.0009650122115177073,\n",
    "#     'n_jobs': -1,\n",
    "#     'random_state': 42\n",
    "# }\n",
    "\n"
   ]
  },
  {
   "cell_type": "code",
   "execution_count": null,
   "id": "277f01b3",
   "metadata": {},
   "outputs": [],
   "source": [
    "\n",
    "# --- Trénovanie finálneho modelu ---\n",
    "final_model = LGBMClassifier(**best_params)"
   ]
  },
  {
   "cell_type": "code",
   "execution_count": null,
   "id": "a5fb08c2",
   "metadata": {},
   "outputs": [],
   "source": [
    "final_model.fit(\n",
    "    X_train, y_train,\n",
    "    eval_set=[(X_test, y_test)],\n",
    "    callbacks=[early_stopping(80, verbose=True)]\n",
    ")\n"
   ]
  },
  {
   "cell_type": "code",
   "execution_count": null,
   "id": "9a4a30fd",
   "metadata": {},
   "outputs": [],
   "source": [
    "# --- Predikcia ---\n",
    "y_pred_final = final_model.predict(X_test)"
   ]
  },
  {
   "cell_type": "code",
   "execution_count": null,
   "id": "620bbad2",
   "metadata": {},
   "outputs": [],
   "source": [
    "# --- Vyhodnotenie ---\n",
    "final_accuracy = accuracy_score(y_test, y_pred_final)\n",
    "print(f\"Final LightGBM Accuracy: {final_accuracy:.4f}\")"
   ]
  },
  {
   "cell_type": "code",
   "execution_count": null,
   "id": "6f5f72b2",
   "metadata": {},
   "outputs": [],
   "source": [
    "# Vyhodnotenie presnosti na trénovacej množine\n",
    "y_train_pred = final_model.predict(X_train)\n",
    "train_accuracy = accuracy_score(y_train, y_train_pred)\n",
    "print(f\"Train Accuracy: {train_accuracy:.4f}\")\n",
    "print(f\"Test Accuracy: {final_accuracy:.4f}\")"
   ]
  },
  {
   "cell_type": "code",
   "execution_count": null,
   "id": "1104362e",
   "metadata": {},
   "outputs": [],
   "source": [
    " \n",
    " #uloženie label_encoder\n",
    " \n",
    " with open('C:\\\\diplomka_work\\\\python_code\\\\data_pickles\\\\LGBM\\\\text_LGBM_label_encoder.pkl', 'wb') as f:\n",
    "     pickle.dump(encoder, f)\n"
   ]
  },
  {
   "cell_type": "code",
   "execution_count": null,
   "id": "58a54b19",
   "metadata": {},
   "outputs": [],
   "source": [
    "# Uloženie modelu do súboru\n",
    "with open('C:\\\\diplomka_work\\\\python_code\\\\data_pickles\\\\LGBM\\\\text_LGBM_saved_model.pkl', 'wb') as file:\n",
    "    pickle.dump(final_model, file=file)"
   ]
  },
  {
   "cell_type": "code",
   "execution_count": null,
   "id": "635a6a19",
   "metadata": {},
   "outputs": [],
   "source": [
    "# --- Uloženie zoznamu features ---\n",
    "with open('C:\\\\diplomka_work\\\\python_code\\\\data_pickles\\\\LGBM\\\\text_LGBM_uložene_feature.pkl', 'wb') as f:\n",
    "    pickle.dump(X_train.columns.tolist(), f)"
   ]
  }
 ],
 "metadata": {
  "language_info": {
   "name": "python"
  }
 },
 "nbformat": 4,
 "nbformat_minor": 5
}
