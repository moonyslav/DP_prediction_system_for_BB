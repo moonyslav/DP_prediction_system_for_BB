{
 "cells": [
  {
   "cell_type": "code",
   "execution_count": null,
   "id": "b88a55c6",
   "metadata": {},
   "outputs": [],
   "source": [
    "import pickle\n",
    "import joblib\n",
    "import pandas as pd\n",
    "import numpy as np\n",
    "import tensorflow as tf\n",
    "from tensorflow.keras.preprocessing.sequence import pad_sequences\n",
    "from tensorflow.keras.models import Sequential\n",
    "from tensorflow.keras.layers import Embedding, LSTM, Dense, Masking\n",
    "from sklearn.preprocessing import LabelEncoder\n",
    "from sklearn.model_selection import train_test_split\n",
    "from sklearn.metrics import accuracy_score\n",
    "from collections import Counter\n",
    "import os\n",
    "\n"
   ]
  },
  {
   "cell_type": "code",
   "execution_count": null,
   "id": "9dac3206",
   "metadata": {},
   "outputs": [],
   "source": [
    "# === Načítanie dát ===\n",
    "df = pd.read_pickle(r'C:\\diplomka_work\\python_code\\diploma_kod_text\\RNN\\na_predanie\\train_cely.pkl')\n"
   ]
  },
  {
   "cell_type": "code",
   "execution_count": null,
   "id": "e7032a9b",
   "metadata": {},
   "outputs": [],
   "source": [
    "\n",
    "\n",
    "\n",
    "# === Príprava sekvencií ===\n",
    "df = df.sort_values(by=['doklad_id_int', 'poradi'])  # zoradenie podľa dokladu a poradia\n",
    "\n",
    "# Label encoding produktov\n",
    "encoder = LabelEncoder()\n",
    "df['produkt_nazev_encoded'] = encoder.fit_transform(df['produkt_nazev'])\n",
    "\n",
    "# Skupinovanie do sekvencií podľa doklad_id\n",
    "grouped = df.groupby('doklad_id_int')['produkt_nazev_encoded'].apply(list)\n",
    "\n",
    "# Príprava vstupov a cieľov\n",
    "X_sequences = []\n",
    "y_labels = []\n",
    "\n",
    "for seq in grouped:\n",
    "    for i in range(1, len(seq)):\n",
    "        X_sequences.append(seq[:i])  # sekvencia do i-tého kroku\n",
    "        y_labels.append(seq[i])      # cieľ = nasledujúci produkt\n",
    "\n",
    "# Padding (aby boli všetky sekvencie rovnakej dĺžky)\n",
    "max_seq_len = max([len(seq) for seq in X_sequences])\n",
    "X_padded = pad_sequences(X_sequences, maxlen=max_seq_len, padding='pre')\n",
    "\n",
    "# Konverzia y do numpy array\n",
    "y_labels = np.array(y_labels)\n",
    "\n",
    "# === Filtrovanie vzoriek s málo výskytmi ===\n",
    "label_counts = Counter(y_labels)\n",
    "valid_labels = {label for label, count in label_counts.items() if count >= 2}\n",
    "\n",
    "X_filtered = []\n",
    "y_filtered = []\n",
    "\n",
    "for x, y in zip(X_padded, y_labels):\n",
    "    if y in valid_labels:\n",
    "        X_filtered.append(x)\n",
    "        y_filtered.append(y)\n",
    "\n",
    "X_filtered = np.array(X_filtered)\n",
    "y_filtered = np.array(y_filtered)\n",
    "\n",
    "# === Rozdelenie datasetu ===\n",
    "X_train, X_test, y_train, y_test = train_test_split(\n",
    "    X_filtered, y_filtered, test_size=0.2, random_state=42, stratify=y_filtered\n",
    ")\n",
    "\n",
    "# === Definícia modelu ===\n",
    "vocab_size = df['produkt_nazev_encoded'].nunique() + 1  # počet unikátnych produktov\n",
    "embedding_dim = 128\n",
    "\n",
    "model = Sequential()\n",
    "model.add(Embedding(input_dim=vocab_size, output_dim=embedding_dim, input_length=max_seq_len, mask_zero=True))\n",
    "model.add(LSTM(128, return_sequences=False))\n",
    "model.add(Dense(vocab_size, activation='softmax'))\n",
    "\n",
    "model.compile(optimizer='adam', loss='sparse_categorical_crossentropy', metrics=['accuracy'])\n",
    "print(model.summary())\n",
    "\n",
    "\n"
   ]
  },
  {
   "cell_type": "code",
   "execution_count": null,
   "id": "cf9cb796",
   "metadata": {},
   "outputs": [],
   "source": [
    "# === Tréning ===\n",
    "history = model.fit(X_train, y_train, validation_data=(X_test, y_test), epochs=10, batch_size=128)"
   ]
  },
  {
   "cell_type": "code",
   "execution_count": null,
   "id": "64627feb",
   "metadata": {},
   "outputs": [],
   "source": [
    "# === Vyhodnotenie\n",
    "loss, acc = model.evaluate(X_test, y_test)\n",
    "print(f\"\\n🎯 Test Accuracy: {acc:.4f}\")"
   ]
  },
  {
   "cell_type": "code",
   "execution_count": null,
   "id": "bc7f2165",
   "metadata": {},
   "outputs": [],
   "source": [
    "loss, acc = model.evaluate(X_train, y_train)\n",
    "print(f\"\\n🎯 Test Accuracy: {acc:.4f}\")"
   ]
  },
  {
   "cell_type": "code",
   "execution_count": null,
   "id": "985fa4da",
   "metadata": {},
   "outputs": [],
   "source": [
    "y_test_pred_probs = model.predict(X_test, verbose=0)"
   ]
  },
  {
   "cell_type": "code",
   "execution_count": null,
   "id": "75ffa17e",
   "metadata": {},
   "outputs": [],
   "source": [
    "# Uloženie modelu do súboru\n",
    "with open('C:\\\\diplomka_work\\\\python_code\\\\data_pickles\\\\RNN\\\\saved_model_RNN.pkl', 'wb') as file:\n",
    "    pickle.dump(model, file=file)"
   ]
  },
  {
   "cell_type": "code",
   "execution_count": null,
   "id": "1e00660f",
   "metadata": {},
   "outputs": [],
   "source": [
    "model.save('C:\\\\diplomka_work\\\\python_code\\\\data_pickles\\\\RNN\\\\saved_model_RNN.h5')"
   ]
  },
  {
   "cell_type": "code",
   "execution_count": null,
   "id": "08b70810",
   "metadata": {},
   "outputs": [],
   "source": [
    " \n",
    " #dsd label_encoder\n",
    " \n",
    " with open('C:\\\\diplomka_work\\\\python_code\\\\data_pickles\\\\RNN\\\\label_encoder_RNN.pkl', 'wb') as f:\n",
    "     pickle.dump(encoder, f)\n"
   ]
  },
  {
   "cell_type": "code",
   "execution_count": null,
   "id": "09baf38d",
   "metadata": {},
   "outputs": [],
   "source": [
    "\n",
    "# === Predikcia pravdepodobností pre testovaciu množinu ===\n",
    "y_test_pred_probs = model.predict(X_test, verbose=0)\n",
    "\n",
    "# === Získanie top 2 predikovaných tried pre každý vstup ===\n",
    "top_2_preds = np.argsort(y_test_pred_probs, axis=1)[:, -2:][:, ::-1]  # zoradené zostupne\n",
    "\n",
    "# === Prevod zakódovaných hodnôt späť na názvy produktov ===\n",
    "top_1_names = encoder.inverse_transform(top_2_preds[:, 0])\n",
    "top_2_names = encoder.inverse_transform(top_2_preds[:, 1])\n",
    "true_names = encoder.inverse_transform(y_test)\n",
    "\n",
    "# === Zápis do .txt súboru ===\n",
    "output_path = os.path.join(os.getcwd(), \"predikcie_test_top2.txt\")\n",
    "\n",
    "with open(output_path, \"w\", encoding=\"utf-8\") as f:\n",
    "    f.write(\"=== TOP 2 PREDIKCIE + SKUTOČNÁ HODNOTA ===\\n\\n\")\n",
    "    for i in range(len(y_test)):\n",
    "        f.write(f\"Top 1 predikcia: {top_1_names[i]}\\n\")\n",
    "        f.write(f\"Top 2 predikcia: {top_2_names[i]}\\n\")\n",
    "        f.write(f\"Skutočná hodnota: {true_names[i]}\\n\\n\")\n",
    "\n",
    "print(f\"✅ Výstup uložený do súboru: {output_path}\")\n"
   ]
  }
 ],
 "metadata": {
  "language_info": {
   "name": "python"
  }
 },
 "nbformat": 4,
 "nbformat_minor": 5
}
